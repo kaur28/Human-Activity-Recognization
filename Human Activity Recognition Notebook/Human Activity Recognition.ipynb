{
 "cells": [
  {
   "cell_type": "markdown",
   "metadata": {},
   "source": [
    " Human Activity Recognition Using Different Models\n",
    "\n",
    "Models used are -\n",
    "\n",
    "+ Multiclass SVM (96% accuracy)\n",
    "+ Random Forest Classifier (93% accuracy)\n",
    "+ KNeighborsClassifier (89% accuracy)\n"
   ]
  },
  {
   "cell_type": "markdown",
   "metadata": {},
   "source": [
    "### Import the machine learning libraries."
   ]
  },
  {
   "cell_type": "code",
   "execution_count": 1,
   "metadata": {
    "colab": {},
    "colab_type": "code",
    "id": "qR7FLlXTY0nz"
   },
   "outputs": [],
   "source": [
    "import numpy as np\n",
    "import pylab as pl\n",
    "import pandas as pd\n",
    "import matplotlib.pyplot as plt \n",
    "%matplotlib inline\n",
    "import seaborn as sns"
   ]
  },
  {
   "cell_type": "code",
   "execution_count": 2,
   "metadata": {},
   "outputs": [],
   "source": [
    "from sklearn.svm import SVC\n",
    "from sklearn.utils import shuffle\n",
    "from sklearn.metrics import confusion_matrix,classification_report\n",
    "from sklearn.model_selection import cross_val_score, GridSearchCV, KFold"
   ]
  },
  {
   "cell_type": "markdown",
   "metadata": {},
   "source": [
    "### Load the Human Activity Recognition Using Smartphones dataset."
   ]
  },
  {
   "cell_type": "code",
   "execution_count": 3,
   "metadata": {
    "colab": {},
    "colab_type": "code",
    "id": "L-QNwQQoZQwf"
   },
   "outputs": [],
   "source": [
    "train = shuffle(pd.read_csv(\"train.csv\"))\n",
    "test = shuffle(pd.read_csv(\"test.csv\"))"
   ]
  },
  {
   "cell_type": "code",
   "execution_count": 4,
   "metadata": {
    "colab": {
     "base_uri": "https://localhost:8080/",
     "height": 34
    },
    "colab_type": "code",
    "executionInfo": {
     "elapsed": 300,
     "status": "ok",
     "timestamp": 1588054970321,
     "user": {
      "displayName": "Junmo An",
      "photoUrl": "https://lh3.googleusercontent.com/a-/AOh14Gj5i3lgizGZ18Gjf053phbgFazmHzZTmG3QNyhO=s64",
      "userId": "01963327505044644290"
     },
     "user_tz": 300
    },
    "id": "qjd_6yFbc6bB",
    "outputId": "7ba3f152-75c0-4089-d9c6-7de4d686fc17"
   },
   "outputs": [
    {
     "name": "stdout",
     "output_type": "stream",
     "text": [
      "(7352, 563) (2947, 563)\n"
     ]
    }
   ],
   "source": [
    "print(train.shape, test.shape)"
   ]
  },
  {
   "cell_type": "code",
   "execution_count": 5,
   "metadata": {
    "colab": {
     "base_uri": "https://localhost:8080/",
     "height": 442
    },
    "colab_type": "code",
    "executionInfo": {
     "elapsed": 365,
     "status": "ok",
     "timestamp": 1588054985862,
     "user": {
      "displayName": "Junmo An",
      "photoUrl": "https://lh3.googleusercontent.com/a-/AOh14Gj5i3lgizGZ18Gjf053phbgFazmHzZTmG3QNyhO=s64",
      "userId": "01963327505044644290"
     },
     "user_tz": 300
    },
    "id": "qjr7rfvuc966",
    "outputId": "eb34b3e8-5ccf-4d8b-876b-cbd49f7b14d9"
   },
   "outputs": [
    {
     "data": {
      "text/html": [
       "<div>\n",
       "<style scoped>\n",
       "    .dataframe tbody tr th:only-of-type {\n",
       "        vertical-align: middle;\n",
       "    }\n",
       "\n",
       "    .dataframe tbody tr th {\n",
       "        vertical-align: top;\n",
       "    }\n",
       "\n",
       "    .dataframe thead th {\n",
       "        text-align: right;\n",
       "    }\n",
       "</style>\n",
       "<table border=\"1\" class=\"dataframe\">\n",
       "  <thead>\n",
       "    <tr style=\"text-align: right;\">\n",
       "      <th></th>\n",
       "      <th>tBodyAcc-mean()-X</th>\n",
       "      <th>tBodyAcc-mean()-Y</th>\n",
       "      <th>tBodyAcc-mean()-Z</th>\n",
       "      <th>tBodyAcc-std()-X</th>\n",
       "      <th>tBodyAcc-std()-Y</th>\n",
       "      <th>tBodyAcc-std()-Z</th>\n",
       "      <th>tBodyAcc-mad()-X</th>\n",
       "      <th>tBodyAcc-mad()-Y</th>\n",
       "      <th>tBodyAcc-mad()-Z</th>\n",
       "      <th>tBodyAcc-max()-X</th>\n",
       "      <th>...</th>\n",
       "      <th>fBodyBodyGyroJerkMag-kurtosis()</th>\n",
       "      <th>angle(tBodyAccMean,gravity)</th>\n",
       "      <th>angle(tBodyAccJerkMean),gravityMean)</th>\n",
       "      <th>angle(tBodyGyroMean,gravityMean)</th>\n",
       "      <th>angle(tBodyGyroJerkMean,gravityMean)</th>\n",
       "      <th>angle(X,gravityMean)</th>\n",
       "      <th>angle(Y,gravityMean)</th>\n",
       "      <th>angle(Z,gravityMean)</th>\n",
       "      <th>subject</th>\n",
       "      <th>Activity</th>\n",
       "    </tr>\n",
       "  </thead>\n",
       "  <tbody>\n",
       "    <tr>\n",
       "      <th>2976</th>\n",
       "      <td>0.312031</td>\n",
       "      <td>-0.037260</td>\n",
       "      <td>-0.125744</td>\n",
       "      <td>-0.402102</td>\n",
       "      <td>-0.219857</td>\n",
       "      <td>-0.184291</td>\n",
       "      <td>-0.395211</td>\n",
       "      <td>-0.255154</td>\n",
       "      <td>-0.169798</td>\n",
       "      <td>-0.381048</td>\n",
       "      <td>...</td>\n",
       "      <td>-0.902933</td>\n",
       "      <td>-0.526570</td>\n",
       "      <td>0.811900</td>\n",
       "      <td>-0.788503</td>\n",
       "      <td>-0.532858</td>\n",
       "      <td>-0.661403</td>\n",
       "      <td>0.235714</td>\n",
       "      <td>0.212767</td>\n",
       "      <td>16</td>\n",
       "      <td>WALKING</td>\n",
       "    </tr>\n",
       "    <tr>\n",
       "      <th>1158</th>\n",
       "      <td>0.271131</td>\n",
       "      <td>-0.016456</td>\n",
       "      <td>-0.027684</td>\n",
       "      <td>-0.982104</td>\n",
       "      <td>-0.903725</td>\n",
       "      <td>-0.906337</td>\n",
       "      <td>-0.985598</td>\n",
       "      <td>-0.903953</td>\n",
       "      <td>-0.909549</td>\n",
       "      <td>-0.925470</td>\n",
       "      <td>...</td>\n",
       "      <td>-0.479615</td>\n",
       "      <td>0.045983</td>\n",
       "      <td>0.012512</td>\n",
       "      <td>-0.037621</td>\n",
       "      <td>0.260104</td>\n",
       "      <td>-0.842178</td>\n",
       "      <td>0.207015</td>\n",
       "      <td>0.025525</td>\n",
       "      <td>6</td>\n",
       "      <td>STANDING</td>\n",
       "    </tr>\n",
       "    <tr>\n",
       "      <th>4186</th>\n",
       "      <td>0.269811</td>\n",
       "      <td>-0.020517</td>\n",
       "      <td>-0.125724</td>\n",
       "      <td>-0.989492</td>\n",
       "      <td>-0.958494</td>\n",
       "      <td>-0.976177</td>\n",
       "      <td>-0.992236</td>\n",
       "      <td>-0.962669</td>\n",
       "      <td>-0.975178</td>\n",
       "      <td>-0.926206</td>\n",
       "      <td>...</td>\n",
       "      <td>-0.062778</td>\n",
       "      <td>-0.013986</td>\n",
       "      <td>-0.261086</td>\n",
       "      <td>-0.621881</td>\n",
       "      <td>0.455780</td>\n",
       "      <td>-0.610732</td>\n",
       "      <td>0.327605</td>\n",
       "      <td>0.158698</td>\n",
       "      <td>21</td>\n",
       "      <td>STANDING</td>\n",
       "    </tr>\n",
       "    <tr>\n",
       "      <th>2961</th>\n",
       "      <td>0.279855</td>\n",
       "      <td>-0.018161</td>\n",
       "      <td>-0.107091</td>\n",
       "      <td>-0.993804</td>\n",
       "      <td>-0.968640</td>\n",
       "      <td>-0.982366</td>\n",
       "      <td>-0.994298</td>\n",
       "      <td>-0.965368</td>\n",
       "      <td>-0.983000</td>\n",
       "      <td>-0.935992</td>\n",
       "      <td>...</td>\n",
       "      <td>-0.823053</td>\n",
       "      <td>-0.186918</td>\n",
       "      <td>0.097996</td>\n",
       "      <td>0.184480</td>\n",
       "      <td>-0.387422</td>\n",
       "      <td>0.314360</td>\n",
       "      <td>-0.215092</td>\n",
       "      <td>-0.738916</td>\n",
       "      <td>16</td>\n",
       "      <td>LAYING</td>\n",
       "    </tr>\n",
       "    <tr>\n",
       "      <th>1758</th>\n",
       "      <td>0.256846</td>\n",
       "      <td>-0.046044</td>\n",
       "      <td>-0.176688</td>\n",
       "      <td>-0.975746</td>\n",
       "      <td>-0.871924</td>\n",
       "      <td>-0.830858</td>\n",
       "      <td>-0.976893</td>\n",
       "      <td>-0.856916</td>\n",
       "      <td>-0.804782</td>\n",
       "      <td>-0.935802</td>\n",
       "      <td>...</td>\n",
       "      <td>-0.767574</td>\n",
       "      <td>0.082355</td>\n",
       "      <td>-0.273417</td>\n",
       "      <td>-0.408983</td>\n",
       "      <td>0.327362</td>\n",
       "      <td>-0.943708</td>\n",
       "      <td>0.084537</td>\n",
       "      <td>0.058536</td>\n",
       "      <td>8</td>\n",
       "      <td>STANDING</td>\n",
       "    </tr>\n",
       "    <tr>\n",
       "      <th>6598</th>\n",
       "      <td>0.260005</td>\n",
       "      <td>-0.033718</td>\n",
       "      <td>-0.097449</td>\n",
       "      <td>0.225088</td>\n",
       "      <td>0.337646</td>\n",
       "      <td>-0.187223</td>\n",
       "      <td>0.131002</td>\n",
       "      <td>0.254994</td>\n",
       "      <td>-0.189056</td>\n",
       "      <td>0.576660</td>\n",
       "      <td>...</td>\n",
       "      <td>-0.705041</td>\n",
       "      <td>0.145160</td>\n",
       "      <td>-0.680908</td>\n",
       "      <td>0.747021</td>\n",
       "      <td>0.372738</td>\n",
       "      <td>-0.723449</td>\n",
       "      <td>0.250677</td>\n",
       "      <td>0.136142</td>\n",
       "      <td>28</td>\n",
       "      <td>WALKING_DOWNSTAIRS</td>\n",
       "    </tr>\n",
       "    <tr>\n",
       "      <th>2704</th>\n",
       "      <td>0.258015</td>\n",
       "      <td>-0.035617</td>\n",
       "      <td>0.018536</td>\n",
       "      <td>-0.954136</td>\n",
       "      <td>-0.910495</td>\n",
       "      <td>-0.621868</td>\n",
       "      <td>-0.957329</td>\n",
       "      <td>-0.910318</td>\n",
       "      <td>-0.572349</td>\n",
       "      <td>-0.904497</td>\n",
       "      <td>...</td>\n",
       "      <td>-0.764926</td>\n",
       "      <td>0.072230</td>\n",
       "      <td>-0.103980</td>\n",
       "      <td>-0.025226</td>\n",
       "      <td>-0.236789</td>\n",
       "      <td>-0.943354</td>\n",
       "      <td>0.134333</td>\n",
       "      <td>0.034072</td>\n",
       "      <td>15</td>\n",
       "      <td>STANDING</td>\n",
       "    </tr>\n",
       "    <tr>\n",
       "      <th>2277</th>\n",
       "      <td>0.348332</td>\n",
       "      <td>-0.042675</td>\n",
       "      <td>-0.114896</td>\n",
       "      <td>-0.905218</td>\n",
       "      <td>-0.822848</td>\n",
       "      <td>-0.919588</td>\n",
       "      <td>-0.910100</td>\n",
       "      <td>-0.844418</td>\n",
       "      <td>-0.921173</td>\n",
       "      <td>-0.783909</td>\n",
       "      <td>...</td>\n",
       "      <td>-0.305033</td>\n",
       "      <td>0.233701</td>\n",
       "      <td>-0.370343</td>\n",
       "      <td>-0.126435</td>\n",
       "      <td>0.272854</td>\n",
       "      <td>0.424684</td>\n",
       "      <td>-0.323592</td>\n",
       "      <td>-0.669591</td>\n",
       "      <td>14</td>\n",
       "      <td>LAYING</td>\n",
       "    </tr>\n",
       "    <tr>\n",
       "      <th>227</th>\n",
       "      <td>0.269635</td>\n",
       "      <td>-0.008931</td>\n",
       "      <td>-0.089395</td>\n",
       "      <td>-0.997137</td>\n",
       "      <td>-0.966587</td>\n",
       "      <td>-0.985598</td>\n",
       "      <td>-0.997462</td>\n",
       "      <td>-0.966295</td>\n",
       "      <td>-0.985594</td>\n",
       "      <td>-0.943226</td>\n",
       "      <td>...</td>\n",
       "      <td>-0.593571</td>\n",
       "      <td>-0.016150</td>\n",
       "      <td>0.096747</td>\n",
       "      <td>0.512809</td>\n",
       "      <td>-0.477863</td>\n",
       "      <td>-0.749442</td>\n",
       "      <td>0.017871</td>\n",
       "      <td>-0.144098</td>\n",
       "      <td>1</td>\n",
       "      <td>SITTING</td>\n",
       "    </tr>\n",
       "    <tr>\n",
       "      <th>537</th>\n",
       "      <td>0.284478</td>\n",
       "      <td>0.003033</td>\n",
       "      <td>-0.208525</td>\n",
       "      <td>-0.848423</td>\n",
       "      <td>-0.802261</td>\n",
       "      <td>-0.720899</td>\n",
       "      <td>-0.905267</td>\n",
       "      <td>-0.805815</td>\n",
       "      <td>-0.681842</td>\n",
       "      <td>-0.697067</td>\n",
       "      <td>...</td>\n",
       "      <td>-0.504212</td>\n",
       "      <td>0.010903</td>\n",
       "      <td>-0.538791</td>\n",
       "      <td>-0.756990</td>\n",
       "      <td>-0.471110</td>\n",
       "      <td>-0.683917</td>\n",
       "      <td>0.313627</td>\n",
       "      <td>0.053600</td>\n",
       "      <td>3</td>\n",
       "      <td>STANDING</td>\n",
       "    </tr>\n",
       "  </tbody>\n",
       "</table>\n",
       "<p>10 rows × 563 columns</p>\n",
       "</div>"
      ],
      "text/plain": [
       "      tBodyAcc-mean()-X  tBodyAcc-mean()-Y  tBodyAcc-mean()-Z  \\\n",
       "2976           0.312031          -0.037260          -0.125744   \n",
       "1158           0.271131          -0.016456          -0.027684   \n",
       "4186           0.269811          -0.020517          -0.125724   \n",
       "2961           0.279855          -0.018161          -0.107091   \n",
       "1758           0.256846          -0.046044          -0.176688   \n",
       "6598           0.260005          -0.033718          -0.097449   \n",
       "2704           0.258015          -0.035617           0.018536   \n",
       "2277           0.348332          -0.042675          -0.114896   \n",
       "227            0.269635          -0.008931          -0.089395   \n",
       "537            0.284478           0.003033          -0.208525   \n",
       "\n",
       "      tBodyAcc-std()-X  tBodyAcc-std()-Y  tBodyAcc-std()-Z  tBodyAcc-mad()-X  \\\n",
       "2976         -0.402102         -0.219857         -0.184291         -0.395211   \n",
       "1158         -0.982104         -0.903725         -0.906337         -0.985598   \n",
       "4186         -0.989492         -0.958494         -0.976177         -0.992236   \n",
       "2961         -0.993804         -0.968640         -0.982366         -0.994298   \n",
       "1758         -0.975746         -0.871924         -0.830858         -0.976893   \n",
       "6598          0.225088          0.337646         -0.187223          0.131002   \n",
       "2704         -0.954136         -0.910495         -0.621868         -0.957329   \n",
       "2277         -0.905218         -0.822848         -0.919588         -0.910100   \n",
       "227          -0.997137         -0.966587         -0.985598         -0.997462   \n",
       "537          -0.848423         -0.802261         -0.720899         -0.905267   \n",
       "\n",
       "      tBodyAcc-mad()-Y  tBodyAcc-mad()-Z  tBodyAcc-max()-X  ...  \\\n",
       "2976         -0.255154         -0.169798         -0.381048  ...   \n",
       "1158         -0.903953         -0.909549         -0.925470  ...   \n",
       "4186         -0.962669         -0.975178         -0.926206  ...   \n",
       "2961         -0.965368         -0.983000         -0.935992  ...   \n",
       "1758         -0.856916         -0.804782         -0.935802  ...   \n",
       "6598          0.254994         -0.189056          0.576660  ...   \n",
       "2704         -0.910318         -0.572349         -0.904497  ...   \n",
       "2277         -0.844418         -0.921173         -0.783909  ...   \n",
       "227          -0.966295         -0.985594         -0.943226  ...   \n",
       "537          -0.805815         -0.681842         -0.697067  ...   \n",
       "\n",
       "      fBodyBodyGyroJerkMag-kurtosis()  angle(tBodyAccMean,gravity)  \\\n",
       "2976                        -0.902933                    -0.526570   \n",
       "1158                        -0.479615                     0.045983   \n",
       "4186                        -0.062778                    -0.013986   \n",
       "2961                        -0.823053                    -0.186918   \n",
       "1758                        -0.767574                     0.082355   \n",
       "6598                        -0.705041                     0.145160   \n",
       "2704                        -0.764926                     0.072230   \n",
       "2277                        -0.305033                     0.233701   \n",
       "227                         -0.593571                    -0.016150   \n",
       "537                         -0.504212                     0.010903   \n",
       "\n",
       "      angle(tBodyAccJerkMean),gravityMean)  angle(tBodyGyroMean,gravityMean)  \\\n",
       "2976                              0.811900                         -0.788503   \n",
       "1158                              0.012512                         -0.037621   \n",
       "4186                             -0.261086                         -0.621881   \n",
       "2961                              0.097996                          0.184480   \n",
       "1758                             -0.273417                         -0.408983   \n",
       "6598                             -0.680908                          0.747021   \n",
       "2704                             -0.103980                         -0.025226   \n",
       "2277                             -0.370343                         -0.126435   \n",
       "227                               0.096747                          0.512809   \n",
       "537                              -0.538791                         -0.756990   \n",
       "\n",
       "      angle(tBodyGyroJerkMean,gravityMean)  angle(X,gravityMean)  \\\n",
       "2976                             -0.532858             -0.661403   \n",
       "1158                              0.260104             -0.842178   \n",
       "4186                              0.455780             -0.610732   \n",
       "2961                             -0.387422              0.314360   \n",
       "1758                              0.327362             -0.943708   \n",
       "6598                              0.372738             -0.723449   \n",
       "2704                             -0.236789             -0.943354   \n",
       "2277                              0.272854              0.424684   \n",
       "227                              -0.477863             -0.749442   \n",
       "537                              -0.471110             -0.683917   \n",
       "\n",
       "      angle(Y,gravityMean)  angle(Z,gravityMean)  subject            Activity  \n",
       "2976              0.235714              0.212767       16             WALKING  \n",
       "1158              0.207015              0.025525        6            STANDING  \n",
       "4186              0.327605              0.158698       21            STANDING  \n",
       "2961             -0.215092             -0.738916       16              LAYING  \n",
       "1758              0.084537              0.058536        8            STANDING  \n",
       "6598              0.250677              0.136142       28  WALKING_DOWNSTAIRS  \n",
       "2704              0.134333              0.034072       15            STANDING  \n",
       "2277             -0.323592             -0.669591       14              LAYING  \n",
       "227               0.017871             -0.144098        1             SITTING  \n",
       "537               0.313627              0.053600        3            STANDING  \n",
       "\n",
       "[10 rows x 563 columns]"
      ]
     },
     "execution_count": 5,
     "metadata": {},
     "output_type": "execute_result"
    }
   ],
   "source": [
    "train.head(10)"
   ]
  },
  {
   "cell_type": "code",
   "execution_count": 6,
   "metadata": {
    "colab": {
     "base_uri": "https://localhost:8080/",
     "height": 380
    },
    "colab_type": "code",
    "executionInfo": {
     "elapsed": 1715,
     "status": "ok",
     "timestamp": 1588057606495,
     "user": {
      "displayName": "Junmo An",
      "photoUrl": "https://lh3.googleusercontent.com/a-/AOh14Gj5i3lgizGZ18Gjf053phbgFazmHzZTmG3QNyhO=s64",
      "userId": "01963327505044644290"
     },
     "user_tz": 300
    },
    "id": "1Z9RBHJOdCjU",
    "outputId": "417e93e7-f152-4abf-ce6e-e0b38c894826"
   },
   "outputs": [
    {
     "data": {
      "text/html": [
       "<div>\n",
       "<style scoped>\n",
       "    .dataframe tbody tr th:only-of-type {\n",
       "        vertical-align: middle;\n",
       "    }\n",
       "\n",
       "    .dataframe tbody tr th {\n",
       "        vertical-align: top;\n",
       "    }\n",
       "\n",
       "    .dataframe thead th {\n",
       "        text-align: right;\n",
       "    }\n",
       "</style>\n",
       "<table border=\"1\" class=\"dataframe\">\n",
       "  <thead>\n",
       "    <tr style=\"text-align: right;\">\n",
       "      <th></th>\n",
       "      <th>tBodyAcc-mean()-X</th>\n",
       "      <th>tBodyAcc-mean()-Y</th>\n",
       "      <th>tBodyAcc-mean()-Z</th>\n",
       "      <th>tBodyAcc-std()-X</th>\n",
       "      <th>tBodyAcc-std()-Y</th>\n",
       "      <th>tBodyAcc-std()-Z</th>\n",
       "      <th>tBodyAcc-mad()-X</th>\n",
       "      <th>tBodyAcc-mad()-Y</th>\n",
       "      <th>tBodyAcc-mad()-Z</th>\n",
       "      <th>tBodyAcc-max()-X</th>\n",
       "      <th>...</th>\n",
       "      <th>fBodyBodyGyroJerkMag-skewness()</th>\n",
       "      <th>fBodyBodyGyroJerkMag-kurtosis()</th>\n",
       "      <th>angle(tBodyAccMean,gravity)</th>\n",
       "      <th>angle(tBodyAccJerkMean),gravityMean)</th>\n",
       "      <th>angle(tBodyGyroMean,gravityMean)</th>\n",
       "      <th>angle(tBodyGyroJerkMean,gravityMean)</th>\n",
       "      <th>angle(X,gravityMean)</th>\n",
       "      <th>angle(Y,gravityMean)</th>\n",
       "      <th>angle(Z,gravityMean)</th>\n",
       "      <th>subject</th>\n",
       "    </tr>\n",
       "  </thead>\n",
       "  <tbody>\n",
       "    <tr>\n",
       "      <th>count</th>\n",
       "      <td>7352.000000</td>\n",
       "      <td>7352.000000</td>\n",
       "      <td>7352.000000</td>\n",
       "      <td>7352.000000</td>\n",
       "      <td>7352.000000</td>\n",
       "      <td>7352.000000</td>\n",
       "      <td>7352.000000</td>\n",
       "      <td>7352.000000</td>\n",
       "      <td>7352.000000</td>\n",
       "      <td>7352.000000</td>\n",
       "      <td>...</td>\n",
       "      <td>7352.000000</td>\n",
       "      <td>7352.000000</td>\n",
       "      <td>7352.000000</td>\n",
       "      <td>7352.000000</td>\n",
       "      <td>7352.000000</td>\n",
       "      <td>7352.000000</td>\n",
       "      <td>7352.000000</td>\n",
       "      <td>7352.000000</td>\n",
       "      <td>7352.000000</td>\n",
       "      <td>7352.000000</td>\n",
       "    </tr>\n",
       "    <tr>\n",
       "      <th>mean</th>\n",
       "      <td>0.274488</td>\n",
       "      <td>-0.017695</td>\n",
       "      <td>-0.109141</td>\n",
       "      <td>-0.605438</td>\n",
       "      <td>-0.510938</td>\n",
       "      <td>-0.604754</td>\n",
       "      <td>-0.630512</td>\n",
       "      <td>-0.526907</td>\n",
       "      <td>-0.606150</td>\n",
       "      <td>-0.468604</td>\n",
       "      <td>...</td>\n",
       "      <td>-0.307009</td>\n",
       "      <td>-0.625294</td>\n",
       "      <td>0.008684</td>\n",
       "      <td>0.002186</td>\n",
       "      <td>0.008726</td>\n",
       "      <td>-0.005981</td>\n",
       "      <td>-0.489547</td>\n",
       "      <td>0.058593</td>\n",
       "      <td>-0.056515</td>\n",
       "      <td>17.413085</td>\n",
       "    </tr>\n",
       "    <tr>\n",
       "      <th>std</th>\n",
       "      <td>0.070261</td>\n",
       "      <td>0.040811</td>\n",
       "      <td>0.056635</td>\n",
       "      <td>0.448734</td>\n",
       "      <td>0.502645</td>\n",
       "      <td>0.418687</td>\n",
       "      <td>0.424073</td>\n",
       "      <td>0.485942</td>\n",
       "      <td>0.414122</td>\n",
       "      <td>0.544547</td>\n",
       "      <td>...</td>\n",
       "      <td>0.321011</td>\n",
       "      <td>0.307584</td>\n",
       "      <td>0.336787</td>\n",
       "      <td>0.448306</td>\n",
       "      <td>0.608303</td>\n",
       "      <td>0.477975</td>\n",
       "      <td>0.511807</td>\n",
       "      <td>0.297480</td>\n",
       "      <td>0.279122</td>\n",
       "      <td>8.975143</td>\n",
       "    </tr>\n",
       "    <tr>\n",
       "      <th>min</th>\n",
       "      <td>-1.000000</td>\n",
       "      <td>-1.000000</td>\n",
       "      <td>-1.000000</td>\n",
       "      <td>-1.000000</td>\n",
       "      <td>-0.999873</td>\n",
       "      <td>-1.000000</td>\n",
       "      <td>-1.000000</td>\n",
       "      <td>-1.000000</td>\n",
       "      <td>-1.000000</td>\n",
       "      <td>-1.000000</td>\n",
       "      <td>...</td>\n",
       "      <td>-0.995357</td>\n",
       "      <td>-0.999765</td>\n",
       "      <td>-0.976580</td>\n",
       "      <td>-1.000000</td>\n",
       "      <td>-1.000000</td>\n",
       "      <td>-1.000000</td>\n",
       "      <td>-1.000000</td>\n",
       "      <td>-1.000000</td>\n",
       "      <td>-1.000000</td>\n",
       "      <td>1.000000</td>\n",
       "    </tr>\n",
       "    <tr>\n",
       "      <th>25%</th>\n",
       "      <td>0.262975</td>\n",
       "      <td>-0.024863</td>\n",
       "      <td>-0.120993</td>\n",
       "      <td>-0.992754</td>\n",
       "      <td>-0.978129</td>\n",
       "      <td>-0.980233</td>\n",
       "      <td>-0.993591</td>\n",
       "      <td>-0.978162</td>\n",
       "      <td>-0.980251</td>\n",
       "      <td>-0.936219</td>\n",
       "      <td>...</td>\n",
       "      <td>-0.542602</td>\n",
       "      <td>-0.845573</td>\n",
       "      <td>-0.121527</td>\n",
       "      <td>-0.289549</td>\n",
       "      <td>-0.482273</td>\n",
       "      <td>-0.376341</td>\n",
       "      <td>-0.812065</td>\n",
       "      <td>-0.017885</td>\n",
       "      <td>-0.143414</td>\n",
       "      <td>8.000000</td>\n",
       "    </tr>\n",
       "    <tr>\n",
       "      <th>50%</th>\n",
       "      <td>0.277193</td>\n",
       "      <td>-0.017219</td>\n",
       "      <td>-0.108676</td>\n",
       "      <td>-0.946196</td>\n",
       "      <td>-0.851897</td>\n",
       "      <td>-0.859365</td>\n",
       "      <td>-0.950709</td>\n",
       "      <td>-0.857328</td>\n",
       "      <td>-0.857143</td>\n",
       "      <td>-0.881637</td>\n",
       "      <td>...</td>\n",
       "      <td>-0.343685</td>\n",
       "      <td>-0.711692</td>\n",
       "      <td>0.009509</td>\n",
       "      <td>0.008943</td>\n",
       "      <td>0.008735</td>\n",
       "      <td>-0.000368</td>\n",
       "      <td>-0.709417</td>\n",
       "      <td>0.182071</td>\n",
       "      <td>0.003181</td>\n",
       "      <td>19.000000</td>\n",
       "    </tr>\n",
       "    <tr>\n",
       "      <th>75%</th>\n",
       "      <td>0.288461</td>\n",
       "      <td>-0.010783</td>\n",
       "      <td>-0.097794</td>\n",
       "      <td>-0.242813</td>\n",
       "      <td>-0.034231</td>\n",
       "      <td>-0.262415</td>\n",
       "      <td>-0.292680</td>\n",
       "      <td>-0.066701</td>\n",
       "      <td>-0.265671</td>\n",
       "      <td>-0.017129</td>\n",
       "      <td>...</td>\n",
       "      <td>-0.126979</td>\n",
       "      <td>-0.503878</td>\n",
       "      <td>0.150865</td>\n",
       "      <td>0.292861</td>\n",
       "      <td>0.506187</td>\n",
       "      <td>0.359368</td>\n",
       "      <td>-0.509079</td>\n",
       "      <td>0.248353</td>\n",
       "      <td>0.107659</td>\n",
       "      <td>26.000000</td>\n",
       "    </tr>\n",
       "    <tr>\n",
       "      <th>max</th>\n",
       "      <td>1.000000</td>\n",
       "      <td>1.000000</td>\n",
       "      <td>1.000000</td>\n",
       "      <td>1.000000</td>\n",
       "      <td>0.916238</td>\n",
       "      <td>1.000000</td>\n",
       "      <td>1.000000</td>\n",
       "      <td>0.967664</td>\n",
       "      <td>1.000000</td>\n",
       "      <td>1.000000</td>\n",
       "      <td>...</td>\n",
       "      <td>0.989538</td>\n",
       "      <td>0.956845</td>\n",
       "      <td>1.000000</td>\n",
       "      <td>1.000000</td>\n",
       "      <td>0.998702</td>\n",
       "      <td>0.996078</td>\n",
       "      <td>1.000000</td>\n",
       "      <td>0.478157</td>\n",
       "      <td>1.000000</td>\n",
       "      <td>30.000000</td>\n",
       "    </tr>\n",
       "  </tbody>\n",
       "</table>\n",
       "<p>8 rows × 562 columns</p>\n",
       "</div>"
      ],
      "text/plain": [
       "       tBodyAcc-mean()-X  tBodyAcc-mean()-Y  tBodyAcc-mean()-Z  \\\n",
       "count        7352.000000        7352.000000        7352.000000   \n",
       "mean            0.274488          -0.017695          -0.109141   \n",
       "std             0.070261           0.040811           0.056635   \n",
       "min            -1.000000          -1.000000          -1.000000   \n",
       "25%             0.262975          -0.024863          -0.120993   \n",
       "50%             0.277193          -0.017219          -0.108676   \n",
       "75%             0.288461          -0.010783          -0.097794   \n",
       "max             1.000000           1.000000           1.000000   \n",
       "\n",
       "       tBodyAcc-std()-X  tBodyAcc-std()-Y  tBodyAcc-std()-Z  tBodyAcc-mad()-X  \\\n",
       "count       7352.000000       7352.000000       7352.000000       7352.000000   \n",
       "mean          -0.605438         -0.510938         -0.604754         -0.630512   \n",
       "std            0.448734          0.502645          0.418687          0.424073   \n",
       "min           -1.000000         -0.999873         -1.000000         -1.000000   \n",
       "25%           -0.992754         -0.978129         -0.980233         -0.993591   \n",
       "50%           -0.946196         -0.851897         -0.859365         -0.950709   \n",
       "75%           -0.242813         -0.034231         -0.262415         -0.292680   \n",
       "max            1.000000          0.916238          1.000000          1.000000   \n",
       "\n",
       "       tBodyAcc-mad()-Y  tBodyAcc-mad()-Z  tBodyAcc-max()-X  ...  \\\n",
       "count       7352.000000       7352.000000       7352.000000  ...   \n",
       "mean          -0.526907         -0.606150         -0.468604  ...   \n",
       "std            0.485942          0.414122          0.544547  ...   \n",
       "min           -1.000000         -1.000000         -1.000000  ...   \n",
       "25%           -0.978162         -0.980251         -0.936219  ...   \n",
       "50%           -0.857328         -0.857143         -0.881637  ...   \n",
       "75%           -0.066701         -0.265671         -0.017129  ...   \n",
       "max            0.967664          1.000000          1.000000  ...   \n",
       "\n",
       "       fBodyBodyGyroJerkMag-skewness()  fBodyBodyGyroJerkMag-kurtosis()  \\\n",
       "count                      7352.000000                      7352.000000   \n",
       "mean                         -0.307009                        -0.625294   \n",
       "std                           0.321011                         0.307584   \n",
       "min                          -0.995357                        -0.999765   \n",
       "25%                          -0.542602                        -0.845573   \n",
       "50%                          -0.343685                        -0.711692   \n",
       "75%                          -0.126979                        -0.503878   \n",
       "max                           0.989538                         0.956845   \n",
       "\n",
       "       angle(tBodyAccMean,gravity)  angle(tBodyAccJerkMean),gravityMean)  \\\n",
       "count                  7352.000000                           7352.000000   \n",
       "mean                      0.008684                              0.002186   \n",
       "std                       0.336787                              0.448306   \n",
       "min                      -0.976580                             -1.000000   \n",
       "25%                      -0.121527                             -0.289549   \n",
       "50%                       0.009509                              0.008943   \n",
       "75%                       0.150865                              0.292861   \n",
       "max                       1.000000                              1.000000   \n",
       "\n",
       "       angle(tBodyGyroMean,gravityMean)  angle(tBodyGyroJerkMean,gravityMean)  \\\n",
       "count                       7352.000000                           7352.000000   \n",
       "mean                           0.008726                             -0.005981   \n",
       "std                            0.608303                              0.477975   \n",
       "min                           -1.000000                             -1.000000   \n",
       "25%                           -0.482273                             -0.376341   \n",
       "50%                            0.008735                             -0.000368   \n",
       "75%                            0.506187                              0.359368   \n",
       "max                            0.998702                              0.996078   \n",
       "\n",
       "       angle(X,gravityMean)  angle(Y,gravityMean)  angle(Z,gravityMean)  \\\n",
       "count           7352.000000           7352.000000           7352.000000   \n",
       "mean              -0.489547              0.058593             -0.056515   \n",
       "std                0.511807              0.297480              0.279122   \n",
       "min               -1.000000             -1.000000             -1.000000   \n",
       "25%               -0.812065             -0.017885             -0.143414   \n",
       "50%               -0.709417              0.182071              0.003181   \n",
       "75%               -0.509079              0.248353              0.107659   \n",
       "max                1.000000              0.478157              1.000000   \n",
       "\n",
       "           subject  \n",
       "count  7352.000000  \n",
       "mean     17.413085  \n",
       "std       8.975143  \n",
       "min       1.000000  \n",
       "25%       8.000000  \n",
       "50%      19.000000  \n",
       "75%      26.000000  \n",
       "max      30.000000  \n",
       "\n",
       "[8 rows x 562 columns]"
      ]
     },
     "execution_count": 6,
     "metadata": {},
     "output_type": "execute_result"
    }
   ],
   "source": [
    "train.describe()"
   ]
  },
  {
   "cell_type": "markdown",
   "metadata": {},
   "source": [
    "### Checking to find the missing values."
   ]
  },
  {
   "cell_type": "code",
   "execution_count": 7,
   "metadata": {
    "colab": {
     "base_uri": "https://localhost:8080/",
     "height": 51
    },
    "colab_type": "code",
    "executionInfo": {
     "elapsed": 258,
     "status": "ok",
     "timestamp": 1588054904572,
     "user": {
      "displayName": "Junmo An",
      "photoUrl": "https://lh3.googleusercontent.com/a-/AOh14Gj5i3lgizGZ18Gjf053phbgFazmHzZTmG3QNyhO=s64",
      "userId": "01963327505044644290"
     },
     "user_tz": 300
    },
    "id": "_c2t7TGrbCex",
    "outputId": "2f302b26-2c14-48c8-9ff6-eecdabb10544"
   },
   "outputs": [
    {
     "name": "stdout",
     "output_type": "stream",
     "text": [
      "Missing values in the training set: False\n",
      "Missing values in the test set: False\n"
     ]
    }
   ],
   "source": [
    "print(\"Missing values in the training set:\", train.isnull().values.any())\n",
    "print(\"Missing values in the test set:\", test.isnull().values.any())\n",
    "#so there is no missing value"
   ]
  },
  {
   "cell_type": "markdown",
   "metadata": {},
   "source": [
    "### Count up frequency distribution of classes"
   ]
  },
  {
   "cell_type": "code",
   "execution_count": 8,
   "metadata": {
    "colab": {
     "base_uri": "https://localhost:8080/",
     "height": 266
    },
    "colab_type": "code",
    "executionInfo": {
     "elapsed": 281,
     "status": "ok",
     "timestamp": 1588055153258,
     "user": {
      "displayName": "Junmo An",
      "photoUrl": "https://lh3.googleusercontent.com/a-/AOh14Gj5i3lgizGZ18Gjf053phbgFazmHzZTmG3QNyhO=s64",
      "userId": "01963327505044644290"
     },
     "user_tz": 300
    },
    "id": "YRzNMRl9cQH9",
    "outputId": "ea064cbb-7796-4954-cf19-2a29ba2564d0"
   },
   "outputs": [
    {
     "data": {
      "text/html": [
       "<div>\n",
       "<style scoped>\n",
       "    .dataframe tbody tr th:only-of-type {\n",
       "        vertical-align: middle;\n",
       "    }\n",
       "\n",
       "    .dataframe tbody tr th {\n",
       "        vertical-align: top;\n",
       "    }\n",
       "\n",
       "    .dataframe thead th {\n",
       "        text-align: right;\n",
       "    }\n",
       "</style>\n",
       "<table border=\"1\" class=\"dataframe\">\n",
       "  <thead>\n",
       "    <tr style=\"text-align: right;\">\n",
       "      <th>col_0</th>\n",
       "      <th>count</th>\n",
       "    </tr>\n",
       "    <tr>\n",
       "      <th>Activity</th>\n",
       "      <th></th>\n",
       "    </tr>\n",
       "  </thead>\n",
       "  <tbody>\n",
       "    <tr>\n",
       "      <th>LAYING</th>\n",
       "      <td>1407</td>\n",
       "    </tr>\n",
       "    <tr>\n",
       "      <th>SITTING</th>\n",
       "      <td>1286</td>\n",
       "    </tr>\n",
       "    <tr>\n",
       "      <th>STANDING</th>\n",
       "      <td>1374</td>\n",
       "    </tr>\n",
       "    <tr>\n",
       "      <th>WALKING</th>\n",
       "      <td>1226</td>\n",
       "    </tr>\n",
       "    <tr>\n",
       "      <th>WALKING_DOWNSTAIRS</th>\n",
       "      <td>986</td>\n",
       "    </tr>\n",
       "    <tr>\n",
       "      <th>WALKING_UPSTAIRS</th>\n",
       "      <td>1073</td>\n",
       "    </tr>\n",
       "  </tbody>\n",
       "</table>\n",
       "</div>"
      ],
      "text/plain": [
       "col_0               count\n",
       "Activity                 \n",
       "LAYING               1407\n",
       "SITTING              1286\n",
       "STANDING             1374\n",
       "WALKING              1226\n",
       "WALKING_DOWNSTAIRS    986\n",
       "WALKING_UPSTAIRS     1073"
      ]
     },
     "execution_count": 8,
     "metadata": {},
     "output_type": "execute_result"
    }
   ],
   "source": [
    "train_outcome = pd.crosstab(index=train[\"Activity\"], columns=\"count\")\n",
    "train_outcome"
   ]
  },
  {
   "cell_type": "markdown",
   "metadata": {},
   "source": [
    "### Visualize frequency distribution of classes."
   ]
  },
  {
   "cell_type": "code",
   "execution_count": 9,
   "metadata": {
    "colab": {
     "base_uri": "https://localhost:8080/",
     "height": 411
    },
    "colab_type": "code",
    "executionInfo": {
     "elapsed": 473,
     "status": "ok",
     "timestamp": 1588056623149,
     "user": {
      "displayName": "Junmo An",
      "photoUrl": "https://lh3.googleusercontent.com/a-/AOh14Gj5i3lgizGZ18Gjf053phbgFazmHzZTmG3QNyhO=s64",
      "userId": "01963327505044644290"
     },
     "user_tz": 300
    },
    "id": "U1V69UPudPe0",
    "outputId": "07127aba-d803-42b7-dc08-df89d5b530db"
   },
   "outputs": [
    {
     "data": {
      "image/png": "[encoded data removed]",
      "text/plain": [
       "<Figure size 504x504 with 1 Axes>"
      ]
     },
     "metadata": {},
     "output_type": "display_data"
    }
   ],
   "source": [
    "temp = train[\"Activity\"].value_counts()\n",
    "df = pd.DataFrame({'labels': temp.index, 'values': temp.values})\n",
    "labels = df['labels']\n",
    "sizes = df['values']\n",
    "plt.figure(figsize=(7,7))\n",
    "plt.pie(sizes, labels=labels, autopct='%1.2f%%')\n",
    "plt.show()"
   ]
  },
  {
   "cell_type": "markdown",
   "metadata": {},
   "source": [
    "### Split the dataset into the training set and test subsets."
   ]
  },
  {
   "cell_type": "code",
   "execution_count": 10,
   "metadata": {
    "colab": {
     "base_uri": "https://localhost:8080/",
     "height": 34
    },
    "colab_type": "code",
    "executionInfo": {
     "elapsed": 332,
     "status": "ok",
     "timestamp": 1588057280879,
     "user": {
      "displayName": "Junmo An",
      "photoUrl": "https://lh3.googleusercontent.com/a-/AOh14Gj5i3lgizGZ18Gjf053phbgFazmHzZTmG3QNyhO=s64",
      "userId": "01963327505044644290"
     },
     "user_tz": 300
    },
    "id": "n3XF3fITeB8h",
    "outputId": "8da6e599-84dc-4eab-8507-3a886dd2505f"
   },
   "outputs": [
    {
     "name": "stdout",
     "output_type": "stream",
     "text": [
      "(7352, 561) (2947, 561)\n"
     ]
    }
   ],
   "source": [
    "X_train = pd.DataFrame(train.drop(['Activity','subject'], axis=1))\n",
    "#target\n",
    "y_train = train.Activity.values.astype(object)\n",
    "X_test = pd.DataFrame(test.drop(['Activity','subject'], axis=1))\n",
    "y_test = test.Activity.values.astype(object)\n",
    "\n",
    "print(X_train.shape, X_test.shape)"
   ]
  },
  {
   "cell_type": "code",
   "execution_count": 11,
   "metadata": {},
   "outputs": [
    {
     "name": "stdout",
     "output_type": "stream",
     "text": [
      "['WALKING' 'STANDING' 'STANDING' 'LAYING' 'STANDING' 'WALKING_DOWNSTAIRS'\n",
      " 'STANDING' 'LAYING' 'SITTING' 'STANDING' 'WALKING_UPSTAIRS' 'SITTING'\n",
      " 'WALKING_UPSTAIRS' 'SITTING' 'STANDING' 'STANDING' 'WALKING' 'WALKING'\n",
      " 'STANDING' 'SITTING']\n"
     ]
    }
   ],
   "source": [
    "print(y_train[:20])"
   ]
  },
  {
   "cell_type": "markdown",
   "metadata": {},
   "source": [
    "### Transforming non numerical labels into numeric labels using LabelEncoder"
   ]
  },
  {
   "cell_type": "code",
   "execution_count": 12,
   "metadata": {
    "colab": {},
    "colab_type": "code",
    "id": "jBWGF_3Hje-U"
   },
   "outputs": [],
   "source": [
    "from sklearn import preprocessing\n",
    "\n",
    "# Encode target labels with value between 0 and n_classes-1.\n",
    "encoder = preprocessing.LabelEncoder()\n",
    "\n",
    "# Fit label encoder and return encoded labels.\n",
    "encoder.fit(y_train)\n",
    "y_train = encoder.transform(y_train)\n",
    "\n",
    "# Fit label encoder and return encoded labels.\n",
    "encoder.fit(y_test)\n",
    "y_test = encoder.transform(y_test)"
   ]
  },
  {
   "cell_type": "code",
   "execution_count": 13,
   "metadata": {
    "colab": {
     "base_uri": "https://localhost:8080/",
     "height": 34
    },
    "colab_type": "code",
    "executionInfo": {
     "elapsed": 268,
     "status": "ok",
     "timestamp": 1588057287447,
     "user": {
      "displayName": "Junmo An",
      "photoUrl": "https://lh3.googleusercontent.com/a-/AOh14Gj5i3lgizGZ18Gjf053phbgFazmHzZTmG3QNyhO=s64",
      "userId": "01963327505044644290"
     },
     "user_tz": 300
    },
    "id": "4V8vQVKRllse",
    "outputId": "c640dd87-9603-430d-ddf0-6c3c204145da"
   },
   "outputs": [
    {
     "name": "stdout",
     "output_type": "stream",
     "text": [
      "[3 2 2 0 2 4 2 0 1 2 5 1 5 1 2 2 3 3 2 1]\n"
     ]
    }
   ],
   "source": [
    "print(y_train[:20])"
   ]
  },
  {
   "cell_type": "code",
   "execution_count": 14,
   "metadata": {},
   "outputs": [
    {
     "name": "stdout",
     "output_type": "stream",
     "text": [
      "Dimension of Train set (7352, 561)\n",
      "Dimension of Test set (2947, 561) \n",
      "\n",
      "Dimension of Train labels (7352,)\n",
      "Dimension of Test labels (2947,) \n",
      "\n"
     ]
    }
   ],
   "source": [
    "# Dimension of Train and Test set and label\n",
    "print(\"Dimension of Train set\",X_train.shape)\n",
    "print(\"Dimension of Test set\",X_test.shape,\"\\n\")\n",
    "print(\"Dimension of Train labels\",y_train.shape)\n",
    "print(\"Dimension of Test labels\",y_test.shape,\"\\n\")"
   ]
  },
  {
   "cell_type": "code",
   "execution_count": 15,
   "metadata": {
    "colab": {
     "base_uri": "https://localhost:8080/",
     "height": 34
    },
    "colab_type": "code",
    "executionInfo": {
     "elapsed": 284,
     "status": "ok",
     "timestamp": 1588057673574,
     "user": {
      "displayName": "Junmo An",
      "photoUrl": "https://lh3.googleusercontent.com/a-/AOh14Gj5i3lgizGZ18Gjf053phbgFazmHzZTmG3QNyhO=s64",
      "userId": "01963327505044644290"
     },
     "user_tz": 300
    },
    "id": "GbBVY8zLlNOq",
    "outputId": "a1c17a61-5151-499a-fd89-b718308b6dc5"
   },
   "outputs": [
    {
     "name": "stdout",
     "output_type": "stream",
     "text": [
      "Number of features: 561\n"
     ]
    }
   ],
   "source": [
    "#Total Number of Continous and Categorical features in the training set\n",
    "num_cols = X_train._get_numeric_data().columns\n",
    "names_of_predictors = list(X_train.columns.values)\n",
    "print(\"Number of features:\", num_cols.size)"
   ]
  },
  {
   "cell_type": "code",
   "execution_count": 16,
   "metadata": {},
   "outputs": [],
   "source": [
    "# Scaling the Train and Test feature set \n",
    "from sklearn.preprocessing import StandardScaler\n",
    "scaler = StandardScaler()\n",
    "X_train_scaled = scaler.fit_transform(X_train)\n",
    "X_test_scaled = scaler.transform(X_test)"
   ]
  },
  {
   "cell_type": "markdown",
   "metadata": {},
   "source": [
    "## Implementation Using SVM"
   ]
  },
  {
   "cell_type": "markdown",
   "metadata": {},
   "source": [
    "### Hyperparameter tuning using grid search and cross validation"
   ]
  },
  {
   "cell_type": "code",
   "execution_count": 17,
   "metadata": {
    "colab": {},
    "colab_type": "code",
    "id": "_l9_HZcbod8a"
   },
   "outputs": [],
   "source": [
    "parameters = [{'kernel': ['rbf'], 'gamma': [1e-3, 1e-4], 'C': [1, 10, 100, 1000]},\n",
    "              {'kernel': ['linear'], 'C': [1, 10, 100, 1000]}]"
   ]
  },
  {
   "cell_type": "markdown",
   "metadata": {},
   "source": [
    "### Training SVM model using radial kernel"
   ]
  },
  {
   "cell_type": "code",
   "execution_count": 18,
   "metadata": {},
   "outputs": [
    {
     "data": {
      "text/plain": [
       "GridSearchCV(cv=5, estimator=SVC(),\n",
       "             param_grid=[{'C': [1, 10, 100, 1000], 'gamma': [0.001, 0.0001],\n",
       "                          'kernel': ['rbf']},\n",
       "                         {'C': [1, 10, 100, 1000], 'kernel': ['linear']}])"
      ]
     },
     "execution_count": 18,
     "metadata": {},
     "output_type": "execute_result"
    }
   ],
   "source": [
    "# Performing CV to tune parameters for best SVM fit \n",
    "svm_model = GridSearchCV(SVC(), parameters, cv=5)\n",
    "svm_model.fit(X_train_scaled, y_train)"
   ]
  },
  {
   "cell_type": "markdown",
   "metadata": {},
   "source": [
    "### Confusion Matrix and Accuracy Score"
   ]
  },
  {
   "cell_type": "code",
   "execution_count": 19,
   "metadata": {
    "colab": {
     "base_uri": "https://localhost:8080/",
     "height": 255
    },
    "colab_type": "code",
    "executionInfo": {
     "elapsed": 732768,
     "status": "ok",
     "timestamp": 1588059453237,
     "user": {
      "displayName": "Junmo An",
      "photoUrl": "https://lh3.googleusercontent.com/a-/AOh14Gj5i3lgizGZ18Gjf053phbgFazmHzZTmG3QNyhO=s64",
      "userId": "01963327505044644290"
     },
     "user_tz": 300
    },
    "id": "_MlioOVhqc2n",
    "outputId": "60d85039-02e1-4489-dd59-ccbf95932fb0"
   },
   "outputs": [
    {
     "name": "stdout",
     "output_type": "stream",
     "text": [
      "Best score for training data: 0.9873509158932098 \n",
      "\n",
      "Best C: 1000 \n",
      "\n",
      "Best Kernel: rbf \n",
      "\n",
      "Best Gamma: 0.0001 \n",
      "\n"
     ]
    }
   ],
   "source": [
    "# View the accuracy score\n",
    "print('Best score for training data:', svm_model.best_score_,\"\\n\") \n",
    "\n",
    "# View the best parameters for the model found using grid search\n",
    "print('Best C:',svm_model.best_estimator_.C,\"\\n\") \n",
    "print('Best Kernel:',svm_model.best_estimator_.kernel,\"\\n\")\n",
    "print('Best Gamma:',svm_model.best_estimator_.gamma,\"\\n\")\n",
    "\n",
    "final_model = svm_model.best_estimator_\n",
    "Y_pred = final_model.predict(X_test_scaled)\n",
    "Y_pred_label = list(encoder.inverse_transform(Y_pred))"
   ]
  },
  {
   "cell_type": "markdown",
   "metadata": {},
   "source": [
    "### Confusion Matrix"
   ]
  },
  {
   "cell_type": "code",
   "execution_count": 20,
   "metadata": {
    "colab": {
     "base_uri": "https://localhost:8080/",
     "height": 119
    },
    "colab_type": "code",
    "executionInfo": {
     "elapsed": 286,
     "status": "ok",
     "timestamp": 1588059666379,
     "user": {
      "displayName": "Junmo An",
      "photoUrl": "https://lh3.googleusercontent.com/a-/AOh14Gj5i3lgizGZ18Gjf053phbgFazmHzZTmG3QNyhO=s64",
      "userId": "01963327505044644290"
     },
     "user_tz": 300
    },
    "id": "RVd_XHHbsLuQ",
    "outputId": "3278419b-cac3-4e18-8107-9d0fa1bd6a35"
   },
   "outputs": [
    {
     "name": "stdout",
     "output_type": "stream",
     "text": [
      "[[537   0   0   0   0   0]\n",
      " [  0 436  54   0   0   1]\n",
      " [  0  15 517   0   0   0]\n",
      " [  0   0   0 493   3   0]\n",
      " [  0   0   0   5 398  17]\n",
      " [  0   0   0  16   2 453]]\n"
     ]
    }
   ],
   "source": [
    "print(confusion_matrix(y_test, Y_pred))"
   ]
  },
  {
   "cell_type": "markdown",
   "metadata": {},
   "source": [
    "### Classificatin report"
   ]
  },
  {
   "cell_type": "code",
   "execution_count": 21,
   "metadata": {
    "colab": {
     "base_uri": "https://localhost:8080/",
     "height": 238
    },
    "colab_type": "code",
    "executionInfo": {
     "elapsed": 345,
     "status": "ok",
     "timestamp": 1588059715291,
     "user": {
      "displayName": "Junmo An",
      "photoUrl": "https://lh3.googleusercontent.com/a-/AOh14Gj5i3lgizGZ18Gjf053phbgFazmHzZTmG3QNyhO=s64",
      "userId": "01963327505044644290"
     },
     "user_tz": 300
    },
    "id": "Z_Imd93mu4Vf",
    "outputId": "549d71a7-f475-45a1-b7f4-701d7ff7d37e"
   },
   "outputs": [
    {
     "name": "stdout",
     "output_type": "stream",
     "text": [
      "              precision    recall  f1-score   support\n",
      "\n",
      "           0       1.00      1.00      1.00       537\n",
      "           1       0.97      0.89      0.93       491\n",
      "           2       0.91      0.97      0.94       532\n",
      "           3       0.96      0.99      0.98       496\n",
      "           4       0.99      0.95      0.97       420\n",
      "           5       0.96      0.96      0.96       471\n",
      "\n",
      "    accuracy                           0.96      2947\n",
      "   macro avg       0.96      0.96      0.96      2947\n",
      "weighted avg       0.96      0.96      0.96      2947\n",
      "\n"
     ]
    }
   ],
   "source": [
    "print(classification_report(y_test, Y_pred))"
   ]
  },
  {
   "cell_type": "code",
   "execution_count": 22,
   "metadata": {
    "colab": {
     "base_uri": "https://localhost:8080/",
     "height": 51
    },
    "colab_type": "code",
    "executionInfo": {
     "elapsed": 14384,
     "status": "ok",
     "timestamp": 1588059590160,
     "user": {
      "displayName": "Junmo An",
      "photoUrl": "https://lh3.googleusercontent.com/a-/AOh14Gj5i3lgizGZ18Gjf053phbgFazmHzZTmG3QNyhO=s64",
      "userId": "01963327505044644290"
     },
     "user_tz": 300
    },
    "id": "E7rIivgHsQnX",
    "outputId": "bf505d6c-c8d4-44d3-aa8f-955e83427b31"
   },
   "outputs": [
    {
     "name": "stdout",
     "output_type": "stream",
     "text": [
      "Training set score for SVM: 0.996872\n",
      "Testing  set score for SVM: 0.961656\n"
     ]
    }
   ],
   "source": [
    "print(\"Training set score for SVM: %f\" % final_model.score(X_train_scaled , y_train))\n",
    "print(\"Testing  set score for SVM: %f\" % final_model.score(X_test_scaled  , y_test))"
   ]
  },
  {
   "cell_type": "markdown",
   "metadata": {},
   "source": [
    "## Implementation Using Random_Forest_Classifier"
   ]
  },
  {
   "cell_type": "markdown",
   "metadata": {},
   "source": [
    "### Libraries to Build Ensemble Model : Random Forest Classifier "
   ]
  },
  {
   "cell_type": "code",
   "execution_count": 23,
   "metadata": {
    "colab": {},
    "colab_type": "code",
    "id": "_HoGUYQtuf3q"
   },
   "outputs": [],
   "source": [
    "from sklearn.ensemble import RandomForestClassifier\n",
    "from sklearn.metrics import confusion_matrix,classification_report\n",
    "from sklearn.model_selection import cross_val_score, GridSearchCV\n",
    "\n",
    "# Create the parameter grid based on the results of random search \n",
    "param_random = {\n",
    "    'bootstrap': [True],\n",
    "    'max_features': ['auto', 'sqrt'],\n",
    "    'n_estimators': [100, 200, 300,500]\n",
    "}\n",
    "\n",
    "# Create a based model\n",
    "rf = RandomForestClassifier()\n",
    "\n",
    "# Instantiate the grid search model\n",
    "grid_random = GridSearchCV(estimator = rf, param_random = param_random,cv = 3, n_jobs = -1, verbose = 2)\n"
   ]
  },
  {
   "cell_type": "markdown",
   "metadata": {},
   "source": [
    "### Fit the grid search to the data"
   ]
  },
  {
   "cell_type": "code",
   "execution_count": 24,
   "metadata": {},
   "outputs": [
    {
     "name": "stdout",
     "output_type": "stream",
     "text": [
      "Fitting 3 folds for each of 8 candidates, totalling 24 fits\n"
     ]
    },
    {
     "data": {
      "text/plain": [
       "GridSearchCV(cv=3, estimator=RandomForestClassifier(), n_jobs=-1,\n",
       "             param_grid={'bootstrap': [True], 'max_features': ['auto', 'sqrt'],\n",
       "                         'n_estimators': [100, 200, 300, 500]},\n",
       "             verbose=2)"
      ]
     },
     "execution_count": 24,
     "metadata": {},
     "output_type": "execute_result"
    }
   ],
   "source": [
    "grid_random.fit(X_train_scaled, y_train)"
   ]
  },
  {
   "cell_type": "markdown",
   "metadata": {},
   "source": [
    "### Predicting the Test set results"
   ]
  },
  {
   "cell_type": "code",
   "execution_count": 57,
   "metadata": {},
   "outputs": [
    {
     "name": "stdout",
     "output_type": "stream",
     "text": [
      "[[537   0   0   0   0   0]\n",
      " [  0 440  51   0   0   0]\n",
      " [  0  49 483   0   0   0]\n",
      " [  0   0   0 482   7   7]\n",
      " [  0   0   0  19 355  46]\n",
      " [  0   0   0  31   8 432]]\n"
     ]
    }
   ],
   "source": [
    "best_model = grid_search.best_estimator_\n",
    "Y_pred_random = best_model.predict(X_test_scaled)\n",
    "Y_random = list(encoder.inverse_transform(Y_pred_random))\n",
    "\n",
    "print(confusion_matrix(y_test,Y_pred_random))"
   ]
  },
  {
   "cell_type": "code",
   "execution_count": 58,
   "metadata": {},
   "outputs": [
    {
     "name": "stdout",
     "output_type": "stream",
     "text": [
      "              precision    recall  f1-score   support\n",
      "\n",
      "           0       1.00      1.00      1.00       537\n",
      "           1       0.90      0.90      0.90       491\n",
      "           2       0.90      0.91      0.91       532\n",
      "           3       0.91      0.97      0.94       496\n",
      "           4       0.96      0.85      0.90       420\n",
      "           5       0.89      0.92      0.90       471\n",
      "\n",
      "    accuracy                           0.93      2947\n",
      "   macro avg       0.93      0.92      0.92      2947\n",
      "weighted avg       0.93      0.93      0.93      2947\n",
      "\n"
     ]
    }
   ],
   "source": [
    "print(classification_report(y_test,Y_pred_random))"
   ]
  },
  {
   "cell_type": "code",
   "execution_count": 59,
   "metadata": {},
   "outputs": [
    {
     "name": "stdout",
     "output_type": "stream",
     "text": [
      "Training set score for Random_Forest_Classifier: 1.000000\n",
      "Testing  set score for Random_Forest_Classifier: 0.926026\n"
     ]
    }
   ],
   "source": [
    "print(\"Training set score for Random_Forest_Classifier: %f\" % best_model.score(X_train_scaled , y_train))\n",
    "print(\"Testing  set score for Random_Forest_Classifier: %f\" % best_model.score(X_test_scaled  , y_test ))"
   ]
  },
  {
   "cell_type": "markdown",
   "metadata": {},
   "source": [
    "## Implementation Using KNeighborsClassifier"
   ]
  },
  {
   "cell_type": "markdown",
   "metadata": {},
   "source": [
    "### Importing Libraries"
   ]
  },
  {
   "cell_type": "code",
   "execution_count": 29,
   "metadata": {},
   "outputs": [],
   "source": [
    "from sklearn.neighbors import KNeighborsClassifier"
   ]
  },
  {
   "cell_type": "code",
   "execution_count": 68,
   "metadata": {},
   "outputs": [],
   "source": [
    "knn = KNeighborsClassifier(n_neighbors = 6) "
   ]
  },
  {
   "cell_type": "code",
   "execution_count": 69,
   "metadata": {},
   "outputs": [],
   "source": [
    "knn.fit(X_train_scaled, y_train)\n",
    "y_pred_knn = knn.predict(X_test_scaled)"
   ]
  },
  {
   "cell_type": "code",
   "execution_count": 70,
   "metadata": {},
   "outputs": [
    {
     "name": "stdout",
     "output_type": "stream",
     "text": [
      "[[518  13   6   0   0   0]\n",
      " [  3 406  81   0   0   1]\n",
      " [  0  56 476   0   0   0]\n",
      " [  0   0   0 487   7   2]\n",
      " [  0   0   0  64 311  45]\n",
      " [  0   0   0  54   6 411]]\n"
     ]
    }
   ],
   "source": [
    "print(confusion_matrix(y_test, y_pred_knn))"
   ]
  },
  {
   "cell_type": "code",
   "execution_count": 71,
   "metadata": {},
   "outputs": [
    {
     "name": "stdout",
     "output_type": "stream",
     "text": [
      "              precision    recall  f1-score   support\n",
      "\n",
      "           0       0.99      0.96      0.98       537\n",
      "           1       0.85      0.83      0.84       491\n",
      "           2       0.85      0.89      0.87       532\n",
      "           3       0.80      0.98      0.88       496\n",
      "           4       0.96      0.74      0.84       420\n",
      "           5       0.90      0.87      0.88       471\n",
      "\n",
      "    accuracy                           0.89      2947\n",
      "   macro avg       0.89      0.88      0.88      2947\n",
      "weighted avg       0.89      0.89      0.88      2947\n",
      "\n"
     ]
    }
   ],
   "source": [
    "print(classification_report(y_test, y_pred_knn))"
   ]
  },
  {
   "cell_type": "code",
   "execution_count": 72,
   "metadata": {},
   "outputs": [
    {
     "name": "stdout",
     "output_type": "stream",
     "text": [
      "Training set score for KNN: 0.983270\n",
      "Testing  set score for KNN: 0.885307\n"
     ]
    }
   ],
   "source": [
    "print(\"Training set score for KNN: %f\" % knn.score(X_train_scaled , y_train))\n",
    "print(\"Testing  set score for KNN: %f\" % knn.score(X_test_scaled  , y_test))"
   ]
  },
  {
   "cell_type": "markdown",
   "metadata": {},
   "source": [
    "## Best Model obtained is using SVM Model with an accuracy of 96% "
   ]
  }
 ],
 "metadata": {
  "colab": {
   "authorship_tag": "ABX9TyNSd6w0yQQcvgZ7OyDXF62G",
   "collapsed_sections": [],
   "mount_file_id": "101ehORTPROw7YAriRM-xFTkO29CFT_vQ",
   "name": "Human_Activity_Recognition_SVM.ipynb",
   "provenance": []
  },
  "kernelspec": {
   "display_name": "Python 3",
   "language": "python",
   "name": "python3"
  },
  "language_info": {
   "codemirror_mode": {
    "name": "ipython",
    "version": 3
   },
   "file_extension": ".py",
   "mimetype": "text/x-python",
   "name": "python",
   "nbconvert_exporter": "python",
   "pygments_lexer": "ipython3",
   "version": "3.8.8"
  }
 },
 "nbformat": 4,
 "nbformat_minor": 1
}
